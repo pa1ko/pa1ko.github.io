{
 "cells": [
  {
   "cell_type": "markdown",
   "metadata": {},
   "source": [
    "Operacje na bitach (*eng. bitwise operations*) - wykonuje operacje bit po bicie\n",
    "\n",
    "\n",
    "## Podstawowe operatory:\n",
    "1. Operacja bitowa \"i\" (*eng. bitwise and*) AND &\n",
    "1. Operacja bitowa \"lub\" (*eng. bitwise or*) OR |\n",
    "1. Operacja bitowa \"albo\" (*eng. bitwise xor*) XOR ^\n",
    "1. Zaprzeczenie bitowe, dopełnienie bitowe (*eng. bitwise not/complement*) 1's complement NOT ~\n",
    "1. Przesunięcie bitowe w lewo (*eng. shift left*)Left-Shift <<\n",
    "1. Przesunięcie bitowe w prawo (*eng. shift right*) Right-Shift >>"
   ]
  },
  {
   "cell_type": "markdown",
   "metadata": {},
   "source": [
    "## 1. AND (&)\n",
    "\n",
    "Zwraca 1 tylko jeżeli oba bity są 1.\n",
    "\n",
    "| operacja | wynik |\n",
    "| - | - |\n",
    "| 0 & 0 | 0 |\n",
    "| 0 & 1 | 0 |\n",
    "| 1 & 0 | 0 |\n",
    "| 1 & 1 | 1 |"
   ]
  },
  {
   "cell_type": "code",
   "execution_count": 23,
   "metadata": {},
   "outputs": [
    {
     "name": "stdout",
     "output_type": "stream",
     "text": [
      "0b101 0b111\n",
      "5 0b101\n"
     ]
    }
   ],
   "source": [
    "print(bin(5), bin(7))\n",
    "print(5&7, bin(5&7))"
   ]
  },
  {
   "cell_type": "markdown",
   "metadata": {},
   "source": [
    "## 2. OR (|)\n",
    "\n",
    "Zwraca 1 jeżeli, którykolwiek z dwóch bitów jest 1.\n",
    "\n",
    "| operacje | wyniki |\n",
    "| -   | - |\n",
    "| 0\\|0 | 0 |\n",
    "| 0\\|1 | 1 |\n",
    "| 1\\|0 | 1 |\n",
    "| 1\\|1 | 1 |"
   ]
  },
  {
   "cell_type": "code",
   "execution_count": 22,
   "metadata": {},
   "outputs": [
    {
     "name": "stdout",
     "output_type": "stream",
     "text": [
      "0b110 0b1\n",
      "7 0b111\n"
     ]
    }
   ],
   "source": [
    "print(bin(6), bin(1))\n",
    "print(6|1, bin(6|1))"
   ]
  },
  {
   "cell_type": "markdown",
   "metadata": {},
   "source": [
    "## 3. XOR (^)\n",
    "\n",
    "Zwraca 1 jeżeli jeden operand jest 0 a drugi 1.\n",
    "\n",
    "| operacja | wynik |\n",
    "| -        | -     |\n",
    "| 0^0 | 0 |\n",
    "| 0^1 | 1 |\n",
    "| 1^0 | 1 |\n",
    "| 1^1 | 0 |"
   ]
  },
  {
   "cell_type": "code",
   "execution_count": 21,
   "metadata": {},
   "outputs": [
    {
     "name": "stdout",
     "output_type": "stream",
     "text": [
      "0b110 0b11\n",
      "5 0b101\n"
     ]
    }
   ],
   "source": [
    "print(bin(6), bin(3))\n",
    "print(6^3, bin(6^3))"
   ]
  },
  {
   "cell_type": "markdown",
   "metadata": {},
   "source": [
    "## 4. Bitwise 1's complement (~)\n",
    "\n",
    "Operacja jednoargumentowa, zwraca 1 tylko jeżeli bit argumentu jest ustawiony na 0.\n",
    "\n",
    "| a | ~a |\n",
    "| - | -  |\n",
    "| 0 | 1 |\n",
    "| 1 | 0 |"
   ]
  },
  {
   "cell_type": "code",
   "execution_count": 2,
   "metadata": {},
   "outputs": [
    {
     "name": "stdout",
     "output_type": "stream",
     "text": [
      "0b111100 -0b111101 60 -61\n",
      "0b111 -0b1000 7 -8\n"
     ]
    }
   ],
   "source": [
    "# Dla Python, który korzysta z kodu uzupełnień do dwóch, odwrócenie polega na inwersji bitów, a potem zwiększeniu wyniku o 1.\n",
    "print(bin(60), bin(~60), 60, ~60)\n",
    "print(bin(7), bin(~7), 7, ~7)"
   ]
  },
  {
   "cell_type": "markdown",
   "metadata": {},
   "source": [
    "## 5. Left Shift (<<)\n",
    "\n",
    "Polega na przesunięciu o n bitów w lewo. Bity pojawiające się z prawej strony (uzupełniające przesunięcie) są ustawiane na 0. Przesunięcie o 1 bit jest równoznaczne z pomnożeniem przez 2, przesunięcie o 2 bity to dwukrotne pomnożenie przez 2."
   ]
  },
  {
   "cell_type": "code",
   "execution_count": 46,
   "metadata": {},
   "outputs": [
    {
     "name": "stdout",
     "output_type": "stream",
     "text": [
      "2 0b10\n",
      "8 0b1000\n",
      "32 0b100000\n",
      "3 0b11\n",
      "48 0b110000\n"
     ]
    }
   ],
   "source": [
    "print(2, bin(2))\n",
    "print(2<<2, bin(2<<2))  # 2*2^2\n",
    "print(2<<4, bin(2<<4))  # 2*2^4\n",
    "print(3, bin(3))\n",
    "print(3<<4, bin(3<<4))  # 3*2^4"
   ]
  },
  {
   "cell_type": "markdown",
   "metadata": {},
   "source": [
    "## 6. Right-Shift (>>)\n",
    "\n",
    "Przesunięcie w prawo polega na przesunięciu x bitów w prawo. Operacja jest równoważna dzieleniu całkowitemu przez 2."
   ]
  },
  {
   "cell_type": "code",
   "execution_count": 53,
   "metadata": {},
   "outputs": [
    {
     "name": "stdout",
     "output_type": "stream",
     "text": [
      "2 0b10\n",
      "0 0b0\n",
      "256 0b100000000\n",
      "64 0b1000000\n"
     ]
    }
   ],
   "source": [
    "print(2, bin(2))\n",
    "print(2>>2, bin(2>>2))      # 2/2^2\n",
    "print(256, bin(256))\n",
    "print(256>>2, bin(256>>2))  # 256/2^2"
   ]
  },
  {
   "cell_type": "markdown",
   "metadata": {},
   "source": [
    "Źródła:\n",
    "\n",
    "1. http://www.algorytm.org/kurs-algorytmiki/operacje-bitowe.html\n",
    "1. https://data-flair.training/blogs/python-bitwise-operators/"
   ]
  },
  {
   "cell_type": "code",
   "execution_count": null,
   "metadata": {},
   "outputs": [],
   "source": []
  }
 ],
 "metadata": {
  "kernelspec": {
   "display_name": "snippets[py]",
   "language": "python",
   "name": "snippets_py"
  },
  "language_info": {
   "codemirror_mode": {
    "name": "ipython",
    "version": 3
   },
   "file_extension": ".py",
   "mimetype": "text/x-python",
   "name": "python",
   "nbconvert_exporter": "python",
   "pygments_lexer": "ipython3",
   "version": "3.7.4"
  },
  "nikola": {
   "category": "snippet",
   "date": "2019-10-14 11:03:57 UTC+02:00",
   "description": "",
   "link": "",
   "slug": "operacje-na-bitach",
   "tags": "algorithm",
   "title": "Operacje na bitach",
   "type": "text"
  }
 },
 "nbformat": 4,
 "nbformat_minor": 2
}
