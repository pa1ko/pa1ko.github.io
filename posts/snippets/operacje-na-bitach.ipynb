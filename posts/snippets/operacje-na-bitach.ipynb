{
 "cells": [
  {
   "cell_type": "markdown",
   "metadata": {},
   "source": [
    "Operacje na bitach\n",
    "\n",
    "Podstawowe operatory:\n",
    "* AND\n",
    "* OR\n",
    "* XOR\n",
    "* 1's complement\n",
    "* Left-Shift\n",
    "* Right-Shift"
   ]
  },
  {
   "cell_type": "code",
   "execution_count": null,
   "metadata": {},
   "outputs": [],
   "source": []
  }
 ],
 "metadata": {
  "kernelspec": {
   "display_name": "snippets[py]",
   "language": "python",
   "name": "snippets_py"
  },
  "language_info": {
   "codemirror_mode": {
    "name": "ipython",
    "version": 3
   },
   "file_extension": ".py",
   "mimetype": "text/x-python",
   "name": "python",
   "nbconvert_exporter": "python",
   "pygments_lexer": "ipython3",
   "version": "3.7.4"
  },
  "nikola": {
   "category": "snippet",
   "date": "2019-10-14 11:03:57 UTC+02:00",
   "description": "",
   "link": "",
   "slug": "operacje-na-bitach",
   "tags": "algorithm",
   "title": "Operacje na bitach",
   "type": "text"
  }
 },
 "nbformat": 4,
 "nbformat_minor": 2
}
