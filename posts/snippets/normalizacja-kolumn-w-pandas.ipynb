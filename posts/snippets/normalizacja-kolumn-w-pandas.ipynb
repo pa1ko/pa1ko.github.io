{
 "cells": [
  {
   "cell_type": "code",
   "execution_count": 1,
   "metadata": {},
   "outputs": [],
   "source": [
    "import pandas as pd"
   ]
  },
  {
   "cell_type": "markdown",
   "metadata": {},
   "source": [
    "Moja metoda na normalizowanie nazw kolumn, szczególnie przydaje się przy imporcie zaśmieconych Exceli."
   ]
  },
  {
   "cell_type": "code",
   "execution_count": 2,
   "metadata": {},
   "outputs": [],
   "source": [
    "PL_DIACRITCS = [\n",
    "    (\"ą\", \"a\"),\n",
    "    (\"ć\", \"c\"),\n",
    "    (\"ę\", \"e\"),\n",
    "    (\"ł\", \"l\"),\n",
    "    (\"ń\", \"n\"),\n",
    "    (\"ó\", \"o\"),\n",
    "    (\"ś\", \"s\"),\n",
    "    (\"ź\", \"z\"),\n",
    "    (\"ż\", \"z\"),\n",
    "]\n",
    "\n",
    "SPEC_CHARS = [x for x in \".,()'\\\"_-:\\\\,/!@#$%^&*+=[]|\"]\n",
    "\n",
    "\n",
    "def col_name_norm(cname: str, connector: str = \"_\") -> str:\n",
    "    ncol = cname.strip().lower()\n",
    "\n",
    "    for from_rep, to_repr in PL_DIACRITCS:\n",
    "        ncol = ncol.replace(from_rep, to_repr)\n",
    "\n",
    "    for from_rep in SPEC_CHARS:\n",
    "        ncol = ncol.replace(from_rep, \" \")\n",
    "\n",
    "    ncol = connector.join(ncol.split())\n",
    "\n",
    "    ncol = \"_\" if ncol == \"\" else ncol\n",
    "\n",
    "    return ncol"
   ]
  },
  {
   "cell_type": "code",
   "execution_count": 3,
   "metadata": {},
   "outputs": [
    {
     "output_type": "execute_result",
     "data": {
      "text/plain": [
       "Empty DataFrame\n",
       "Columns: [SdF, [[śąćąCĆSĘ-_),    Teskty i   inne, @$@%]\n",
       "Index: []"
      ],
      "text/html": "<div>\n<style scoped>\n    .dataframe tbody tr th:only-of-type {\n        vertical-align: middle;\n    }\n\n    .dataframe tbody tr th {\n        vertical-align: top;\n    }\n\n    .dataframe thead th {\n        text-align: right;\n    }\n</style>\n<table border=\"1\" class=\"dataframe\">\n  <thead>\n    <tr style=\"text-align: right;\">\n      <th></th>\n      <th>SdF</th>\n      <th>[[śąćąCĆSĘ-_)</th>\n      <th>Teskty i   inne</th>\n      <th>@$@%</th>\n    </tr>\n  </thead>\n  <tbody>\n  </tbody>\n</table>\n</div>"
     },
     "metadata": {},
     "execution_count": 3
    }
   ],
   "source": [
    "df = pd.DataFrame([],columns=[\"SdF\", \"[[śąćąCĆSĘ-_)\", \"   Teskty i   inne\", \"@$@%\"])\n",
    "df"
   ]
  },
  {
   "cell_type": "code",
   "execution_count": 4,
   "metadata": {},
   "outputs": [
    {
     "output_type": "execute_result",
     "data": {
      "text/plain": [
       "Empty DataFrame\n",
       "Columns: [sdf, sacaccse, teskty_i_inne, _]\n",
       "Index: []"
      ],
      "text/html": "<div>\n<style scoped>\n    .dataframe tbody tr th:only-of-type {\n        vertical-align: middle;\n    }\n\n    .dataframe tbody tr th {\n        vertical-align: top;\n    }\n\n    .dataframe thead th {\n        text-align: right;\n    }\n</style>\n<table border=\"1\" class=\"dataframe\">\n  <thead>\n    <tr style=\"text-align: right;\">\n      <th></th>\n      <th>sdf</th>\n      <th>sacaccse</th>\n      <th>teskty_i_inne</th>\n      <th>_</th>\n    </tr>\n  </thead>\n  <tbody>\n  </tbody>\n</table>\n</div>"
     },
     "metadata": {},
     "execution_count": 4
    }
   ],
   "source": [
    "df.columns = [col_name_norm(x) for x in df.columns]\n",
    "df"
   ]
  }
 ],
 "metadata": {
  "kernelspec": {
   "name": "Python 3.7.4 64-bit ('.senv')",
   "display_name": "Python 3.7.4 64-bit ('.senv')",
   "metadata": {
    "interpreter": {
     "hash": "70907e99fe6b5fd5eb28dcd62434b3ee30df172c36c4c2fc09339a2f68d4cb17"
    }
   }
  },
  "nikola": {
   "category": "snippet",
   "date": "2020-10-17 13:10:19 UTC+02:00",
   "description": "",
   "link": "",
   "slug": "normalizacja-kolumn-w-pandas",
   "tags": "pandas",
   "title": "Normalizacja kolumn w Pandas",
   "type": "text"
  }
 },
 "nbformat": 4,
 "nbformat_minor": 2
}