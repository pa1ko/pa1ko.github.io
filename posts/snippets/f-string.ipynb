{
 "cells": [
  {
   "cell_type": "markdown",
   "metadata": {},
   "source": [
    "Nowa funkcjonalność dodana w Pythonie 3.6, f-string jest nowym sposobem interpolacji stringów. Używa się go przez dodanie `f''` przed stringiem."
   ]
  },
  {
   "cell_type": "code",
   "execution_count": 14,
   "metadata": {},
   "outputs": [
    {
     "name": "stdout",
     "output_type": "stream",
     "text": [
      "Hello {name}, age: {age}\n",
      "Hello Yukko, age: 56\n"
     ]
    }
   ],
   "source": [
    "name = 'Yukka'\n",
    "age = 56\n",
    "\n",
    "print('Hello {name}, age: {age}')\n",
    "print(f'Hello {name}, age: {age}')"
   ]
  },
  {
   "cell_type": "markdown",
   "metadata": {},
   "source": [
    "Wewnątrz f-string'a można umieszczać wyrażenia, które będą ewaluowane w czasie wywyływania kod."
   ]
  },
  {
   "cell_type": "code",
   "execution_count": 9,
   "metadata": {},
   "outputs": [
    {
     "data": {
      "text/plain": [
       "'65'"
      ]
     },
     "execution_count": 9,
     "metadata": {},
     "output_type": "execute_result"
    }
   ],
   "source": [
    "f'{13 * 5}'"
   ]
  },
  {
   "cell_type": "code",
   "execution_count": 16,
   "metadata": {},
   "outputs": [
    {
     "data": {
      "text/plain": [
       "'okkuY olleH'"
      ]
     },
     "execution_count": 16,
     "metadata": {},
     "output_type": "execute_result"
    }
   ],
   "source": [
    "def reverse(text):\n",
    "    return ''.join(reversed(text))\n",
    "\n",
    "f'{reverse(name)} olleH'"
   ]
  },
  {
   "cell_type": "code",
   "execution_count": 22,
   "metadata": {},
   "outputs": [
    {
     "data": {
      "text/plain": [
       "'Hello Yukko your age is: 56'"
      ]
     },
     "execution_count": 22,
     "metadata": {},
     "output_type": "execute_result"
    }
   ],
   "source": [
    "text = (\n",
    "    f'Hello {name} '\n",
    "    f'your age is: {age}'\n",
    ")\n",
    "\n",
    "text"
   ]
  }
 ],
 "metadata": {
  "kernelspec": {
   "display_name": "snippets[py]",
   "language": "python",
   "name": "snippets_py"
  },
  "language_info": {
   "codemirror_mode": {
    "name": "ipython",
    "version": 3
   },
   "file_extension": ".py",
   "mimetype": "text/x-python",
   "name": "python",
   "nbconvert_exporter": "python",
   "pygments_lexer": "ipython3",
   "version": "3.6.9"
  },
  "nikola": {
   "category": "snippet",
   "date": "2019-11-04 16:14:51 UTC+01:00",
   "description": "",
   "link": "",
   "slug": "f-string",
   "tags": "python-basics",
   "title": "F-string",
   "type": "text"
  }
 },
 "nbformat": 4,
 "nbformat_minor": 2
}
