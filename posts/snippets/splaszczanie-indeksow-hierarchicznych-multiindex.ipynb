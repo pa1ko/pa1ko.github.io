{
 "cells": [
  {
   "cell_type": "markdown",
   "metadata": {},
   "source": [
    "Spłaszczenie indeksów hierarchicznych (MultiIndex) w Pandas."
   ]
  },
  {
   "cell_type": "code",
   "execution_count": 19,
   "metadata": {
    "collapsed": false
   },
   "outputs": [
    {
     "data": {
      "text/html": [
       "<div>\n",
       "<style scoped>\n",
       "    .dataframe tbody tr th:only-of-type {\n",
       "        vertical-align: middle;\n",
       "    }\n",
       "\n",
       "    .dataframe tbody tr th {\n",
       "        vertical-align: top;\n",
       "    }\n",
       "\n",
       "    .dataframe thead tr th {\n",
       "        text-align: left;\n",
       "    }\n",
       "\n",
       "    .dataframe thead tr:last-of-type th {\n",
       "        text-align: right;\n",
       "    }\n",
       "</style>\n",
       "<table border=\"1\" class=\"dataframe\">\n",
       "  <thead>\n",
       "    <tr>\n",
       "      <th></th>\n",
       "      <th>first</th>\n",
       "      <th colspan=\"2\" halign=\"left\">group_a</th>\n",
       "      <th colspan=\"3\" halign=\"left\">group_b</th>\n",
       "      <th>group_c</th>\n",
       "    </tr>\n",
       "    <tr>\n",
       "      <th></th>\n",
       "      <th>second</th>\n",
       "      <th>one</th>\n",
       "      <th>two</th>\n",
       "      <th>one</th>\n",
       "      <th>two</th>\n",
       "      <th>three</th>\n",
       "      <th>one</th>\n",
       "    </tr>\n",
       "    <tr>\n",
       "      <th>foo</th>\n",
       "      <th>bar</th>\n",
       "      <th></th>\n",
       "      <th></th>\n",
       "      <th></th>\n",
       "      <th></th>\n",
       "      <th></th>\n",
       "      <th></th>\n",
       "    </tr>\n",
       "  </thead>\n",
       "  <tbody>\n",
       "    <tr>\n",
       "      <th rowspan=\"2\" valign=\"top\">a</th>\n",
       "      <th>a</th>\n",
       "      <td>-0.836002</td>\n",
       "      <td>-1.368972</td>\n",
       "      <td>-1.223625</td>\n",
       "      <td>1.043264</td>\n",
       "      <td>0.947463</td>\n",
       "      <td>1.004504</td>\n",
       "    </tr>\n",
       "    <tr>\n",
       "      <th>b</th>\n",
       "      <td>0.669385</td>\n",
       "      <td>1.014749</td>\n",
       "      <td>-0.754021</td>\n",
       "      <td>0.417427</td>\n",
       "      <td>0.006548</td>\n",
       "      <td>0.529405</td>\n",
       "    </tr>\n",
       "    <tr>\n",
       "      <th>b</th>\n",
       "      <th>a</th>\n",
       "      <td>-0.213305</td>\n",
       "      <td>1.817328</td>\n",
       "      <td>0.756040</td>\n",
       "      <td>-0.455419</td>\n",
       "      <td>-0.233054</td>\n",
       "      <td>0.434982</td>\n",
       "    </tr>\n",
       "  </tbody>\n",
       "</table>\n",
       "</div>"
      ],
      "text/plain": [
       "first     group_a             group_b                       group_c\n",
       "second        one       two       one       two     three       one\n",
       "foo bar                                                            \n",
       "a   a   -0.836002 -1.368972 -1.223625  1.043264  0.947463  1.004504\n",
       "    b    0.669385  1.014749 -0.754021  0.417427  0.006548  0.529405\n",
       "b   a   -0.213305  1.817328  0.756040 -0.455419 -0.233054  0.434982"
      ]
     },
     "execution_count": 19,
     "metadata": {},
     "output_type": "execute_result"
    }
   ],
   "source": [
    "import numpy as np\n",
    "import pandas as pd\n",
    "\n",
    "\n",
    "arrays = [['group_a', 'group_a', 'group_b', 'group_b', 'group_b', 'group_c'],\n",
    "          ['one', 'two', 'one', 'two', 'three', 'one']]\n",
    "\n",
    "tuples = list(zip(*arrays))\n",
    "\n",
    "cols = pd.MultiIndex.from_tuples(tuples, names=['first', 'second'])\n",
    "\n",
    "index = pd.MultiIndex.from_tuples([('a', 'a'), ('a', 'b'), ('b', 'a')], names=['foo', 'bar'])\n",
    "\n",
    "df = pd.DataFrame(np.random.randn(3, 6), index=index, columns=cols)\n",
    "df"
   ]
  },
  {
   "cell_type": "markdown",
   "metadata": {},
   "source": [
    "### Spłaszczanie kolumn"
   ]
  },
  {
   "cell_type": "code",
   "execution_count": 15,
   "metadata": {
    "collapsed": false
   },
   "outputs": [
    {
     "data": {
      "text/html": [
       "<div>\n",
       "<style scoped>\n",
       "    .dataframe tbody tr th:only-of-type {\n",
       "        vertical-align: middle;\n",
       "    }\n",
       "\n",
       "    .dataframe tbody tr th {\n",
       "        vertical-align: top;\n",
       "    }\n",
       "\n",
       "    .dataframe thead th {\n",
       "        text-align: right;\n",
       "    }\n",
       "</style>\n",
       "<table border=\"1\" class=\"dataframe\">\n",
       "  <thead>\n",
       "    <tr style=\"text-align: right;\">\n",
       "      <th></th>\n",
       "      <th></th>\n",
       "      <th>group_a_one</th>\n",
       "      <th>group_a_two</th>\n",
       "      <th>group_b_one</th>\n",
       "      <th>group_b_two</th>\n",
       "      <th>group_b_three</th>\n",
       "      <th>group_c_one</th>\n",
       "    </tr>\n",
       "    <tr>\n",
       "      <th>foo</th>\n",
       "      <th>bar</th>\n",
       "      <th></th>\n",
       "      <th></th>\n",
       "      <th></th>\n",
       "      <th></th>\n",
       "      <th></th>\n",
       "      <th></th>\n",
       "    </tr>\n",
       "  </thead>\n",
       "  <tbody>\n",
       "    <tr>\n",
       "      <th rowspan=\"2\" valign=\"top\">a</th>\n",
       "      <th>a</th>\n",
       "      <td>0.844372</td>\n",
       "      <td>-0.420295</td>\n",
       "      <td>-2.083568</td>\n",
       "      <td>0.283192</td>\n",
       "      <td>-0.916388</td>\n",
       "      <td>-0.004215</td>\n",
       "    </tr>\n",
       "    <tr>\n",
       "      <th>b</th>\n",
       "      <td>-2.064209</td>\n",
       "      <td>0.186708</td>\n",
       "      <td>0.820550</td>\n",
       "      <td>-1.266257</td>\n",
       "      <td>0.882968</td>\n",
       "      <td>-1.253361</td>\n",
       "    </tr>\n",
       "    <tr>\n",
       "      <th>b</th>\n",
       "      <th>a</th>\n",
       "      <td>0.850927</td>\n",
       "      <td>1.105630</td>\n",
       "      <td>-1.524011</td>\n",
       "      <td>-1.159488</td>\n",
       "      <td>0.147265</td>\n",
       "      <td>2.205868</td>\n",
       "    </tr>\n",
       "  </tbody>\n",
       "</table>\n",
       "</div>"
      ],
      "text/plain": [
       "         group_a_one  group_a_two  group_b_one  group_b_two  group_b_three  \\\n",
       "foo bar                                                                      \n",
       "a   a       0.844372    -0.420295    -2.083568     0.283192      -0.916388   \n",
       "    b      -2.064209     0.186708     0.820550    -1.266257       0.882968   \n",
       "b   a       0.850927     1.105630    -1.524011    -1.159488       0.147265   \n",
       "\n",
       "         group_c_one  \n",
       "foo bar               \n",
       "a   a      -0.004215  \n",
       "    b      -1.253361  \n",
       "b   a       2.205868  "
      ]
     },
     "execution_count": 15,
     "metadata": {},
     "output_type": "execute_result"
    }
   ],
   "source": [
    "df.columns = ['_'.join(c) for c in df.columns]\n",
    "df"
   ]
  },
  {
   "cell_type": "markdown",
   "metadata": {},
   "source": [
    "### Spłaszczanie indeksu"
   ]
  },
  {
   "cell_type": "code",
   "execution_count": 17,
   "metadata": {
    "collapsed": false
   },
   "outputs": [
    {
     "data": {
      "text/html": [
       "<div>\n",
       "<style scoped>\n",
       "    .dataframe tbody tr th:only-of-type {\n",
       "        vertical-align: middle;\n",
       "    }\n",
       "\n",
       "    .dataframe tbody tr th {\n",
       "        vertical-align: top;\n",
       "    }\n",
       "\n",
       "    .dataframe thead th {\n",
       "        text-align: right;\n",
       "    }\n",
       "</style>\n",
       "<table border=\"1\" class=\"dataframe\">\n",
       "  <thead>\n",
       "    <tr style=\"text-align: right;\">\n",
       "      <th></th>\n",
       "      <th>group_a_one</th>\n",
       "      <th>group_a_two</th>\n",
       "      <th>group_b_one</th>\n",
       "      <th>group_b_two</th>\n",
       "      <th>group_b_three</th>\n",
       "      <th>group_c_one</th>\n",
       "    </tr>\n",
       "  </thead>\n",
       "  <tbody>\n",
       "    <tr>\n",
       "      <th>a_a</th>\n",
       "      <td>0.844372</td>\n",
       "      <td>-0.420295</td>\n",
       "      <td>-2.083568</td>\n",
       "      <td>0.283192</td>\n",
       "      <td>-0.916388</td>\n",
       "      <td>-0.004215</td>\n",
       "    </tr>\n",
       "    <tr>\n",
       "      <th>a_b</th>\n",
       "      <td>-2.064209</td>\n",
       "      <td>0.186708</td>\n",
       "      <td>0.820550</td>\n",
       "      <td>-1.266257</td>\n",
       "      <td>0.882968</td>\n",
       "      <td>-1.253361</td>\n",
       "    </tr>\n",
       "    <tr>\n",
       "      <th>b_a</th>\n",
       "      <td>0.850927</td>\n",
       "      <td>1.105630</td>\n",
       "      <td>-1.524011</td>\n",
       "      <td>-1.159488</td>\n",
       "      <td>0.147265</td>\n",
       "      <td>2.205868</td>\n",
       "    </tr>\n",
       "  </tbody>\n",
       "</table>\n",
       "</div>"
      ],
      "text/plain": [
       "     group_a_one  group_a_two  group_b_one  group_b_two  group_b_three  \\\n",
       "a_a     0.844372    -0.420295    -2.083568     0.283192      -0.916388   \n",
       "a_b    -2.064209     0.186708     0.820550    -1.266257       0.882968   \n",
       "b_a     0.850927     1.105630    -1.524011    -1.159488       0.147265   \n",
       "\n",
       "     group_c_one  \n",
       "a_a    -0.004215  \n",
       "a_b    -1.253361  \n",
       "b_a     2.205868  "
      ]
     },
     "execution_count": 17,
     "metadata": {},
     "output_type": "execute_result"
    }
   ],
   "source": [
    "df.index = ['_'.join(c) for c in df.index]\n",
    "df"
   ]
  }
 ],
 "metadata": {
  "kernelspec": {
   "display_name": "Snippets (Py3)",
   "language": "python",
   "name": "snippetpy3"
  },
  "language_info": {
   "codemirror_mode": {
    "name": "ipython",
    "version": 3
   },
   "file_extension": ".py",
   "mimetype": "text/x-python",
   "name": "python",
   "nbconvert_exporter": "python",
   "pygments_lexer": "ipython3",
   "version": "3.6.2"
  },
  "nikola": {
   "category": "",
   "date": "2018-05-06 09:40:06 UTC+02:00",
   "description": "",
   "link": "",
   "slug": "splaszczanie-indeksow-hierarchicznych-multiindex",
   "tags": "pandas",
   "title": "Spłaszczanie indeksów hierarchicznych (MultiIndex)",
   "type": "text"
  }
 },
 "nbformat": 4,
 "nbformat_minor": 2
}
