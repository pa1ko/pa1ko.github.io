{
 "cells": [
  {
   "cell_type": "markdown",
   "metadata": {},
   "source": [
    "## Listy składane"
   ]
  },
  {
   "cell_type": "markdown",
   "metadata": {},
   "source": [
    "Podniesienie elementów do potęgi"
   ]
  },
  {
   "cell_type": "code",
   "execution_count": 2,
   "metadata": {
    "scrolled": true
   },
   "outputs": [
    {
     "data": {
      "text/plain": [
       "[1, 4, 9, 16, 25, 36, 49, 64, 81, 100]"
      ]
     },
     "execution_count": 2,
     "metadata": {},
     "output_type": "execute_result"
    }
   ],
   "source": [
    "numbers = [1, 2, 3, 4, 5, 6, 7, 8, 9, 10]\n",
    "\n",
    "sqr_numbers = [n**2 for n in numbers]\n",
    "sqr_numbers"
   ]
  },
  {
   "cell_type": "markdown",
   "metadata": {},
   "source": [
    "Filtrowanie elementów z listy (tylko mniejsze od 5)"
   ]
  },
  {
   "cell_type": "code",
   "execution_count": 5,
   "metadata": {},
   "outputs": [
    {
     "data": {
      "text/plain": [
       "[1, 2, 3, 4]"
      ]
     },
     "execution_count": 5,
     "metadata": {},
     "output_type": "execute_result"
    }
   ],
   "source": [
    "ls_then_5 = [n for n in numbers if n < 5]\n",
    "ls_then_5"
   ]
  },
  {
   "cell_type": "markdown",
   "metadata": {},
   "source": [
    "## Słowniki składane"
   ]
  },
  {
   "cell_type": "markdown",
   "metadata": {},
   "source": [
    "Zmiana wartości na duże litery"
   ]
  },
  {
   "cell_type": "code",
   "execution_count": 3,
   "metadata": {},
   "outputs": [
    {
     "data": {
      "text/plain": [
       "{0: 'ALA', 1: 'EWA', 2: 'MARZENKA'}"
      ]
     },
     "execution_count": 3,
     "metadata": {},
     "output_type": "execute_result"
    }
   ],
   "source": [
    "names_dict = {0: 'Ala', 1: 'Ewa', 2: 'Marzenka'}\n",
    "\n",
    "upper_dict = {k: v.upper() for k, v in names_dict.items()}\n",
    "upper_dict"
   ]
  },
  {
   "cell_type": "markdown",
   "metadata": {},
   "source": [
    "Zamian miejscami kluczy i wartości"
   ]
  },
  {
   "cell_type": "code",
   "execution_count": 20,
   "metadata": {},
   "outputs": [
    {
     "data": {
      "text/plain": [
       "{'Ala': 0, 'Ewa': 1, 'Marzenka': 2}"
      ]
     },
     "execution_count": 20,
     "metadata": {},
     "output_type": "execute_result"
    }
   ],
   "source": [
    "revert_dict = {v: k for k, v in names_dict.items()}\n",
    "revert_dict"
   ]
  }
 ],
 "metadata": {
  "kernelspec": {
   "display_name": "snippets[py]",
   "language": "python",
   "name": "snippets_py"
  },
  "language_info": {
   "codemirror_mode": {
    "name": "ipython",
    "version": 3
   },
   "file_extension": ".py",
   "mimetype": "text/x-python",
   "name": "python",
   "nbconvert_exporter": "python",
   "pygments_lexer": "ipython3",
   "version": "3.7.4"
  },
  "nikola": {
   "category": "snippet",
   "date": "2018-05-05 18:46:12 UTC+02:00",
   "description": "",
   "link": "",
   "slug": "listy-i-slowniki-skladane-w-pythonie",
   "tags": "python-basics",
   "title": "Listy i słowniki składane w Pythonie",
   "type": "text"
  }
 },
 "nbformat": 4,
 "nbformat_minor": 2
}
